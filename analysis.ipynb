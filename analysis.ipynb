{
 "cells": [
  {
   "cell_type": "code",
   "execution_count": 1,
   "metadata": {
    "pycharm": {
     "name": "#%%\n"
    }
   },
   "outputs": [
    {
     "name": "stdout",
     "output_type": "stream",
     "text": [
      "num of tables: 519107\n"
     ]
    }
   ],
   "source": [
    "from pathlib import Path, PurePath\n",
    "from collections import Counter\n",
    "import re\n",
    "import matplotlib.pyplot as plt\n",
    "\n",
    "import pandas as pd\n",
    "import numpy as np\n",
    "\n",
    "filtered_tables = list(Path(\"../filteredData\").glob(\"./*/*.csv\"))\n",
    "\n",
    "print(\"num of tables:\", len(filtered_tables))\n"
   ]
  },
  {
   "cell_type": "code",
   "execution_count": 2,
   "metadata": {
    "collapsed": false,
    "pycharm": {
     "name": "#%%\n"
    }
   },
   "outputs": [],
   "source": [
    "allowed_labels = Path(\"./allowedLabels.txt\").read_text().lower().split(\"\\n\")"
   ]
  },
  {
   "cell_type": "code",
   "execution_count": 3,
   "metadata": {
    "pycharm": {
     "name": "#%%\n"
    }
   },
   "outputs": [],
   "source": [
    "class DataCounter:\n",
    "    def __init__(self, paths):\n",
    "        self.labels_counter = Counter()\n",
    "        self.width_counter = Counter()\n",
    "\n",
    "        for path in paths:\n",
    "            with open(path) as file:\n",
    "                labels = file.readline().replace(\"\\n\", \"\").split(\"|\")\n",
    "\n",
    "            for label in labels:\n",
    "                self.labels_counter[label] += 1\n",
    "\n",
    "            self.width_counter[len(labels)] += 1\n",
    "\n",
    "dc = DataCounter(filtered_tables)"
   ]
  },
  {
   "cell_type": "code",
   "execution_count": 39,
   "metadata": {
    "collapsed": false,
    "pycharm": {
     "name": "#%%\n"
    }
   },
   "outputs": [],
   "source": [
    "def print_labels(dc: DataCounter, top: int, ignore_allowed=False):\n",
    "    pairs = dc.labels_counter.most_common(top)\n",
    "    for (x, y) in pairs:\n",
    "        if ignore_allowed and x.lower() in allowed_labels:\n",
    "            continue\n",
    "        print(x, y)"
   ]
  },
  {
   "cell_type": "code",
   "execution_count": 21,
   "metadata": {
    "collapsed": false,
    "pycharm": {
     "name": "#%%\n"
    }
   },
   "outputs": [],
   "source": [
    "def print_widths(dc: DataCounter):\n",
    "    pairs = dc.width_counter.most_common(50)\n",
    "    for (x, y) in pairs:\n",
    "        print(f\"widht: {x}, num: {y}\")"
   ]
  },
  {
   "cell_type": "code",
   "execution_count": 26,
   "metadata": {
    "collapsed": false,
    "pycharm": {
     "name": "#%%\n"
    }
   },
   "outputs": [
    {
     "data": {
      "text/plain": [
       "[<matplotlib.lines.Line2D at 0x7ff49b0a7940>,\n",
       " <matplotlib.lines.Line2D at 0x7ff49b0a79a0>]"
      ]
     },
     "execution_count": 26,
     "metadata": {},
     "output_type": "execute_result"
    },
    {
     "data": {
      "image/png": "[encoded data removed]",
      "text/plain": [
       "<Figure size 640x480 with 1 Axes>"
      ]
     },
     "metadata": {},
     "output_type": "display_data"
    }
   ],
   "source": [
    "plt.plot(dc.width_counter.most_common(50))"
   ]
  },
  {
   "cell_type": "code",
   "execution_count": 35,
   "metadata": {
    "collapsed": false,
    "pycharm": {
     "name": "#%%\n"
    }
   },
   "outputs": [
    {
     "name": "stdout",
     "output_type": "stream",
     "text": [
      "widht: 2, num: 126854\n",
      "widht: 4, num: 83934\n",
      "widht: 3, num: 82885\n",
      "widht: 5, num: 60058\n",
      "widht: 6, num: 50684\n",
      "widht: 7, num: 34567\n",
      "widht: 8, num: 26303\n",
      "widht: 1, num: 19232\n",
      "widht: 9, num: 12108\n",
      "widht: 10, num: 8954\n",
      "widht: 13, num: 8675\n",
      "widht: 11, num: 8502\n",
      "widht: 12, num: 4618\n",
      "widht: 14, num: 3549\n",
      "widht: 15, num: 1884\n",
      "widht: 17, num: 1362\n",
      "widht: 16, num: 1171\n",
      "widht: 45, num: 731\n",
      "widht: 20, num: 707\n",
      "widht: 43, num: 587\n",
      "widht: 18, num: 422\n",
      "widht: 19, num: 303\n",
      "widht: 21, num: 217\n",
      "widht: 31, num: 175\n",
      "widht: 22, num: 147\n",
      "widht: 23, num: 144\n",
      "widht: 24, num: 106\n",
      "widht: 29, num: 100\n",
      "widht: 25, num: 98\n",
      "widht: 26, num: 32\n",
      "widht: 34, num: 30\n",
      "widht: 30, num: 24\n",
      "widht: 38, num: 21\n",
      "widht: 28, num: 15\n",
      "widht: 44, num: 12\n",
      "widht: 41, num: 11\n",
      "widht: 32, num: 10\n",
      "widht: 33, num: 9\n",
      "widht: 40, num: 8\n",
      "widht: 36, num: 7\n",
      "widht: 35, num: 5\n",
      "widht: 49, num: 2\n",
      "widht: 42, num: 2\n",
      "widht: 80, num: 2\n",
      "widht: 97, num: 1\n",
      "widht: 128, num: 1\n",
      "widht: 27, num: 1\n",
      "widht: 46, num: 1\n",
      "widht: 39, num: 1\n",
      "widht: 85, num: 1\n"
     ]
    }
   ],
   "source": [
    "print_widths(dc)"
   ]
  },
  {
   "cell_type": "code",
   "execution_count": 43,
   "metadata": {
    "pycharm": {
     "name": "#%%\n"
    }
   },
   "outputs": [
    {
     "name": "stdout",
     "output_type": "stream",
     "text": [
      "Результаты 67102\n",
      "Рецензии 27201\n"
     ]
    }
   ],
   "source": [
    "print_labels(dc, 10, ignore_allowed=True)"
   ]
  },
  {
   "attachments": {},
   "cell_type": "markdown",
   "metadata": {
    "pycharm": {
     "name": "#%% md\n"
    }
   },
   "source": [
    "### After filtrating out those tables that have unallowed labels \n",
    "---"
   ]
  },
  {
   "cell_type": "code",
   "execution_count": 46,
   "metadata": {
    "pycharm": {
     "name": "#%%\n"
    }
   },
   "outputs": [
    {
     "name": "stdout",
     "output_type": "stream",
     "text": [
      "num of tables: 49706\n"
     ]
    }
   ],
   "source": [
    "filtered_tables2 = list(Path(\"../filteredData2\").glob(\"./*/*.csv\"))\n",
    "\n",
    "print(\"num of tables:\", len(filtered_tables2))"
   ]
  },
  {
   "cell_type": "code",
   "execution_count": 33,
   "metadata": {
    "pycharm": {
     "name": "#%%\n"
    }
   },
   "outputs": [],
   "source": [
    "dc2 = DataCounter(filtered_tables2)"
   ]
  },
  {
   "cell_type": "code",
   "execution_count": 41,
   "metadata": {
    "pycharm": {
     "name": "#%%\n"
    }
   },
   "outputs": [
    {
     "name": "stdout",
     "output_type": "stream",
     "text": [
      "Роль 21343\n",
      "Актёр 19269\n",
      "Год 13333\n",
      "Название 7126\n",
      "Место 5000\n",
      "Город 3819\n",
      "Клуб 3121\n",
      "Результат 2993\n",
      "Спортсмен 2853\n",
      "Имя 2733\n"
     ]
    }
   ],
   "source": [
    "print_labels(dc2, 10)"
   ]
  },
  {
   "cell_type": "code",
   "execution_count": 44,
   "metadata": {
    "collapsed": false,
    "pycharm": {
     "name": "#%%\n"
    }
   },
   "outputs": [
    {
     "data": {
      "text/plain": [
       "[<matplotlib.lines.Line2D at 0x7ff4997f42b0>,\n",
       " <matplotlib.lines.Line2D at 0x7ff4997f4520>]"
      ]
     },
     "execution_count": 44,
     "metadata": {},
     "output_type": "execute_result"
    },
    {
     "data": {
      "image/png": "[encoded data removed]",
      "text/plain": [
       "<Figure size 640x480 with 1 Axes>"
      ]
     },
     "metadata": {},
     "output_type": "display_data"
    }
   ],
   "source": [
    "plt.plot(dc2.width_counter.most_common(50))"
   ]
  },
  {
   "cell_type": "code",
   "execution_count": 45,
   "metadata": {
    "collapsed": false,
    "pycharm": {
     "name": "#%%\n"
    }
   },
   "outputs": [
    {
     "name": "stdout",
     "output_type": "stream",
     "text": [
      "widht: 2, num: 31770\n",
      "widht: 3, num: 10571\n",
      "widht: 4, num: 4731\n",
      "widht: 5, num: 1323\n",
      "widht: 1, num: 586\n",
      "widht: 6, num: 385\n",
      "widht: 7, num: 189\n",
      "widht: 14, num: 23\n",
      "widht: 10, num: 23\n",
      "widht: 11, num: 17\n",
      "widht: 8, num: 16\n",
      "widht: 13, num: 15\n",
      "widht: 12, num: 14\n",
      "widht: 9, num: 14\n",
      "widht: 19, num: 10\n",
      "widht: 41, num: 7\n",
      "widht: 20, num: 5\n",
      "widht: 15, num: 2\n",
      "widht: 24, num: 2\n",
      "widht: 23, num: 2\n",
      "widht: 16, num: 1\n"
     ]
    }
   ],
   "source": [
    "print_widths(dc2)"
   ]
  },
  {
   "attachments": {},
   "cell_type": "markdown",
   "metadata": {
    "pycharm": {
     "name": "#%% md\n"
    }
   },
   "source": [
    "***"
   ]
  },
  {
   "cell_type": "code",
   "execution_count": null,
   "metadata": {
    "collapsed": false,
    "pycharm": {
     "name": "#%%\n"
    }
   },
   "outputs": [],
   "source": []
  },
  {
   "cell_type": "code",
   "execution_count": 9,
   "metadata": {
    "pycharm": {
     "name": "#%%\n"
    }
   },
   "outputs": [
    {
     "name": "stdout",
     "output_type": "stream",
     "text": [
      "../filteredData2/8518419/table_0.csv\n"
     ]
    },
    {
     "data": {
      "text/html": [
       "<div>\n",
       "<style scoped>\n",
       "    .dataframe tbody tr th:only-of-type {\n",
       "        vertical-align: middle;\n",
       "    }\n",
       "\n",
       "    .dataframe tbody tr th {\n",
       "        vertical-align: top;\n",
       "    }\n",
       "\n",
       "    .dataframe thead th {\n",
       "        text-align: right;\n",
       "    }\n",
       "</style>\n",
       "<table border=\"1\" class=\"dataframe\">\n",
       "  <thead>\n",
       "    <tr style=\"text-align: right;\">\n",
       "      <th></th>\n",
       "      <th>Актёр</th>\n",
       "      <th>Роль</th>\n",
       "    </tr>\n",
       "  </thead>\n",
       "  <tbody>\n",
       "    <tr>\n",
       "      <th>0</th>\n",
       "      <td>Николай Граббе</td>\n",
       "      <td>Гиена-дедушка</td>\n",
       "    </tr>\n",
       "    <tr>\n",
       "      <th>1</th>\n",
       "      <td>Мария Виноградова</td>\n",
       "      <td>Гиена-бабушка</td>\n",
       "    </tr>\n",
       "    <tr>\n",
       "      <th>2</th>\n",
       "      <td>Всеволод Ларионов</td>\n",
       "      <td>Гиена-папа</td>\n",
       "    </tr>\n",
       "    <tr>\n",
       "      <th>3</th>\n",
       "      <td>Ирина Карташёва</td>\n",
       "      <td>Гиена-мама</td>\n",
       "    </tr>\n",
       "    <tr>\n",
       "      <th>4</th>\n",
       "      <td>Вячеслав Невинный</td>\n",
       "      <td>Гиена-дядя</td>\n",
       "    </tr>\n",
       "    <tr>\n",
       "      <th>5</th>\n",
       "      <td>Нина Гуляева</td>\n",
       "      <td>Гиена-тётя</td>\n",
       "    </tr>\n",
       "    <tr>\n",
       "      <th>6</th>\n",
       "      <td>А. Соловьёв</td>\n",
       "      <td>Гиена-сын</td>\n",
       "    </tr>\n",
       "    <tr>\n",
       "      <th>7</th>\n",
       "      <td>Лариса Удовиченко</td>\n",
       "      <td>Гиена-дочь</td>\n",
       "    </tr>\n",
       "    <tr>\n",
       "      <th>8</th>\n",
       "      <td>Ия Саввина</td>\n",
       "      <td>Гиена-просто гиена</td>\n",
       "    </tr>\n",
       "    <tr>\n",
       "      <th>9</th>\n",
       "      <td>Леонид Марков</td>\n",
       "      <td>Лев</td>\n",
       "    </tr>\n",
       "    <tr>\n",
       "      <th>10</th>\n",
       "      <td>Рогволд Суховерко</td>\n",
       "      <td>рассказчик</td>\n",
       "    </tr>\n",
       "  </tbody>\n",
       "</table>\n",
       "</div>"
      ],
      "text/plain": [
       "                Актёр                Роль\n",
       "0      Николай Граббе       Гиена-дедушка\n",
       "1   Мария Виноградова       Гиена-бабушка\n",
       "2   Всеволод Ларионов          Гиена-папа\n",
       "3     Ирина Карташёва          Гиена-мама\n",
       "4   Вячеслав Невинный          Гиена-дядя\n",
       "5        Нина Гуляева          Гиена-тётя\n",
       "6         А. Соловьёв           Гиена-сын\n",
       "7   Лариса Удовиченко          Гиена-дочь\n",
       "8          Ия Саввина  Гиена-просто гиена\n",
       "9       Леонид Марков                 Лев\n",
       "10  Рогволд Суховерко          рассказчик"
      ]
     },
     "execution_count": 9,
     "metadata": {},
     "output_type": "execute_result"
    }
   ],
   "source": [
    "num = np.random.randint(0, 30000)\n",
    "\n",
    "print(filtered_tables2[num])\n",
    "table = filtered_tables2[num]\n",
    "pd.read_csv(table, delimiter=\"|\")\n"
   ]
  }
 ],
 "metadata": {
  "kernelspec": {
   "display_name": "venv",
   "language": "python",
   "name": "python3"
  },
  "language_info": {
   "codemirror_mode": {
    "name": "ipython",
    "version": 3
   },
   "file_extension": ".py",
   "mimetype": "text/x-python",
   "name": "python",
   "nbconvert_exporter": "python",
   "pygments_lexer": "ipython3",
   "version": "3.10.5"
  },
  "orig_nbformat": 4,
  "vscode": {
   "interpreter": {
    "hash": "cb5e5f5c0e39f2b6d47a356783d500f753405b03bf9c5b9d3f224522e546d407"
   }
  }
 },
 "nbformat": 4,
 "nbformat_minor": 2
}
